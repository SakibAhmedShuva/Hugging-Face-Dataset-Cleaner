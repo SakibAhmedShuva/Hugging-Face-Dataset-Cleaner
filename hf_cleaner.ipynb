{
 "cells": [
  {
   "cell_type": "code",
   "execution_count": 1,
   "metadata": {},
   "outputs": [],
   "source": [
    "import json\n",
    "\n",
    "def process_dataset(input_file, output_file):\n",
    "    # Read the input file\n",
    "    with open(input_file, 'r', encoding='utf-8') as f:\n",
    "        lines = f.readlines()\n",
    "\n",
    "    total_sentences = len(lines)\n",
    "    processed_lines = []\n",
    "    new_id = 0\n",
    "    \n",
    "    for line in lines:\n",
    "        data = json.loads(line)\n",
    "        # Check if the sentence has any annotation other than 0\n",
    "        if any(tag != 0 for tag in data['ner_tags']):\n",
    "            data['id'] = str(new_id)\n",
    "            # Ensure the JSON structure is identical to the original\n",
    "            processed_lines.append(json.dumps(data, ensure_ascii=False, separators=(',', ':')))\n",
    "            new_id += 1\n",
    "\n",
    "    sentences_deleted = total_sentences - len(processed_lines)\n",
    "    remaining_sentences = len(processed_lines)\n",
    "\n",
    "    # Write the processed data to the output file\n",
    "    with open(output_file, 'w', encoding='utf-8') as f:\n",
    "        for line in processed_lines:\n",
    "            f.write(line + '\\n')\n",
    "\n",
    "    print(f\"Total sentences found: {total_sentences}\")\n",
    "    print(f\"Total sentences with no annotation deleted: {sentences_deleted}\")\n",
    "    print(f\"Final remaining sentences: {remaining_sentences}\")\n",
    "    print(f\"Processing complete. Output written to {output_file}\")"
   ]
  },
  {
   "cell_type": "code",
   "execution_count": 2,
   "metadata": {},
   "outputs": [
    {
     "name": "stdout",
     "output_type": "stream",
     "text": [
      "Total sentences found: 849\n",
      "Total sentences with no annotation deleted: 298\n",
      "Final remaining sentences: 551\n",
      "Processing complete. Output written to output_dataset.json\n"
     ]
    }
   ],
   "source": [
    "# Usage\n",
    "input_file = r\"C:\\Users\\Sakib Ahmed\\Desktop\\samples\\dev - No Per.json\"\n",
    "output_file = 'output_dataset.json'\n",
    "process_dataset(input_file, output_file)"
   ]
  },
  {
   "cell_type": "code",
   "execution_count": null,
   "metadata": {},
   "outputs": [],
   "source": []
  }
 ],
 "metadata": {
  "kernelspec": {
   "display_name": "Python 3",
   "language": "python",
   "name": "python3"
  },
  "language_info": {
   "codemirror_mode": {
    "name": "ipython",
    "version": 3
   },
   "file_extension": ".py",
   "mimetype": "text/x-python",
   "name": "python",
   "nbconvert_exporter": "python",
   "pygments_lexer": "ipython3",
   "version": "3.12.7"
  }
 },
 "nbformat": 4,
 "nbformat_minor": 2
}
